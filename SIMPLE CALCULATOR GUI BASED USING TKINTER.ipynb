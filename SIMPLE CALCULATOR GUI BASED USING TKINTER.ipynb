{
 "cells": [
  {
   "cell_type": "code",
   "execution_count": 2,
   "metadata": {},
   "outputs": [],
   "source": [
    "from tkinter import * \n"
   ]
  },
  {
   "cell_type": "code",
   "execution_count": 25,
   "metadata": {},
   "outputs": [],
   "source": [
    "root=Tk()\n",
    "root.title(\" Calculator\" )\n",
    "text_input =StringVar()\n",
    "optr=\"\"\n",
    "text1=Entry(root,font=(\"arial\",20,'bold'),justify='right',bd=20,bg='red',textvariable=text_input)\n",
    "text1.grid(columnspan=4)\n",
    "\n",
    "def bt_Click(number):\n",
    "    global optr\n",
    "    optr=optr+str(number)\n",
    "    text_input.set(optr)\n",
    "def bt_ClearText():\n",
    "    global optr\n",
    "    optr=\"\"\n",
    "    text_input.set('')\n",
    "def bt_Answer():\n",
    "    global optr\n",
    "    final=str(eval(optr))\n",
    "    text_input.set(final)\n",
    "    optr=\"\"\n",
    "bt9=Button(root, text=\"9\" ,font=(\"arial\",20,'bold'),padx=12,pady=12,fg=\"black\",bg=\"red\",command=lambda:bt_Click(9))\n",
    "bt8=Button(root, text=\"8\" ,font=(\"arial\",20,'bold'),padx=12,pady=12,fg=\"black\",bg=\"red\",command=lambda:bt_Click(8))\n",
    "bt7=Button(root, text=\"7\" ,font=(\"arial\",20,'bold'),padx=12,pady=12,fg=\"black\",bg=\"red\",command=lambda:bt_Click(7))\n",
    "bt6=Button(root, text=\"6\" ,font=(\"arial\",20,'bold'),padx=12,pady=12,fg=\"black\",bg=\"red\",command=lambda:bt_Click(6))\n",
    "bt5=Button(root, text=\"5\" ,font=(\"arial\",20,'bold'),padx=12,pady=12,fg=\"black\",bg=\"red\",command=lambda:bt_Click(5))\n",
    "bt4=Button(root, text=\"4\" ,font=(\"arial\",20,'bold'),padx=12,pady=12,fg=\"black\",bg=\"red\",command=lambda:bt_Click(4))\n",
    "bt3=Button(root, text=\"3\" ,font=(\"arial\",20,'bold'),padx=12,pady=12,fg=\"black\",bg=\"red\",command=lambda:bt_Click(3))\n",
    "bt2=Button(root, text=\"2\" ,font=(\"arial\",20,'bold'),padx=12,pady=12,fg=\"black\",bg=\"red\",command=lambda:bt_Click(2))\n",
    "bt1=Button(root, text=\"1\" ,font=(\"arial\",20,'bold'),padx=12,pady=12,fg=\"black\",bg=\"red\",command=lambda:bt_Click(1))\n",
    "bt0=Button(root, text=\"0\" ,font=(\"arial\",20,'bold'),padx=12,pady=12,fg=\"black\",bg=\"red\",command=lambda:bt_Click(0))\n",
    "bt9.grid(row=1,column=2)\n",
    "bt8.grid(row=1,column=1)\n",
    "bt7.grid(row=1,column=0)\n",
    "bt6.grid(row=2,column=2)\n",
    "bt5.grid(row=2,column=1)\n",
    "bt4.grid(row=2,column=0)\n",
    "bt3.grid(row=3,column=2)\n",
    "bt2.grid(row=3,column=1)\n",
    "bt1.grid(row=3,column=0)\n",
    "bt0.grid(row=4,column=0)\n",
    "bt_Add=Button(root, text=\"+\" ,font=(\"arial\",20,'bold'),padx=12,pady=12,fg=\"black\",bg=\"red\",command=lambda:bt_Click('+'))\n",
    "bt_sub=Button(root, text=\"-\" ,font=(\"arial\",20,'bold'),padx=12,pady=12,fg=\"black\",bg=\"red\",command=lambda:bt_Click('-'))\n",
    "bt_Mul=Button(root, text=\"*\" ,font=(\"arial\",20,'bold'),padx=12,pady=12,fg=\"black\",bg=\"red\",command=lambda:bt_Click('*'))\n",
    "bt_Div=Button(root, text=\"/\" ,font=(\"arial\",20,'bold'),padx=12,pady=12,fg=\"black\",bg=\"red\",command=lambda:bt_Click('/'))\n",
    "bt_equal=Button(root, text=\"=\" ,font=(\"arial\",20,'bold'),padx=12,pady=12,fg=\"black\",bg=\"red\",command=bt_Answer)\n",
    "bt_clear=Button(root, text=\"Clr\" ,font=(\"arial\",20,'bold'),padx=12,pady=12,fg=\"black\",bg=\"red\",command=bt_ClearText)\n",
    "bt_Add.grid(row=1,column=3)\n",
    "bt_sub.grid(row=2,column=3)\n",
    "bt_Mul.grid(row=3,column=3)\n",
    "bt_Div.grid(row=4,column=3)\n",
    "bt_equal.grid(row=4,column=1)\n",
    "bt_clear.grid(row=4,column=2)\n",
    "root.mainloop()"
   ]
  },
  {
   "cell_type": "code",
   "execution_count": null,
   "metadata": {},
   "outputs": [],
   "source": []
  },
  {
   "cell_type": "code",
   "execution_count": null,
   "metadata": {},
   "outputs": [],
   "source": []
  }
 ],
 "metadata": {
  "kernelspec": {
   "display_name": "Python 3",
   "language": "python",
   "name": "python3"
  },
  "language_info": {
   "codemirror_mode": {
    "name": "ipython",
    "version": 3
   },
   "file_extension": ".py",
   "mimetype": "text/x-python",
   "name": "python",
   "nbconvert_exporter": "python",
   "pygments_lexer": "ipython3",
   "version": "3.7.6"
  }
 },
 "nbformat": 4,
 "nbformat_minor": 4
}
