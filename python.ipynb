{
 "cells": [
  {
   "cell_type": "markdown",
   "metadata": {},
   "source": [
    "# Exercise 1 : Basic Math Operations"
   ]
  },
  {
   "cell_type": "markdown",
   "metadata": {},
   "source": [
    "We can perform addition on two numbers using the + operator. The following example shows the addition of 5 and 2:"
   ]
  },
  {
   "cell_type": "markdown",
   "metadata": {},
   "source": [
    "1-Here, we are using the addition operator, + in the code:\n"
   ]
  },
  {
   "cell_type": "code",
   "execution_count": 28,
   "metadata": {},
   "outputs": [
    {
     "data": {
      "text/plain": [
       "7"
      ]
     },
     "execution_count": 28,
     "metadata": {},
     "output_type": "execute_result"
    }
   ],
   "source": [
    "5 + 2\n",
    "#You should get the following output:7"
   ]
  },
  {
   "cell_type": "markdown",
   "metadata": {},
   "source": [
    "We can perform addition on two numbers using the + operator. The following example shows the subtraction of 5 and 2."
   ]
  },
  {
   "cell_type": "markdown",
   "metadata": {},
   "source": [
    "2-Using the subtraction operator in the code, we can perform subtraction on two numbers:\n"
   ]
  },
  {
   "cell_type": "code",
   "execution_count": 29,
   "metadata": {},
   "outputs": [
    {
     "data": {
      "text/plain": [
       "3"
      ]
     },
     "execution_count": 29,
     "metadata": {},
     "output_type": "execute_result"
    }
   ],
   "source": [
    "5 - 2\n",
    "#You should get the following output:3"
   ]
  },
  {
   "cell_type": "markdown",
   "metadata": {},
   "source": [
    "The following example shows the multiplication of 5 by 2.\n",
    "\n",
    "3-Using the * multiplication operator to multiply the two numbers is done as follows:"
   ]
  },
  {
   "cell_type": "code",
   "execution_count": 30,
   "metadata": {},
   "outputs": [
    {
     "data": {
      "text/plain": [
       "10"
      ]
     },
     "execution_count": 30,
     "metadata": {},
     "output_type": "execute_result"
    }
   ],
   "source": [
    "5 * 2\n",
    " #You should get the following output:10"
   ]
  },
  {
   "cell_type": "markdown",
   "metadata": {},
   "source": [
    "4-Now, use the / division operator and observe the output:\n"
   ]
  },
  {
   "cell_type": "code",
   "execution_count": 31,
   "metadata": {},
   "outputs": [
    {
     "data": {
      "text/plain": [
       "2.5"
      ]
     },
     "execution_count": 31,
     "metadata": {},
     "output_type": "execute_result"
    }
   ],
   "source": [
    "5 / 2 \n",
    "#You should get the following output:2.5"
   ]
  },
  {
   "cell_type": "markdown",
   "metadata": {},
   "source": [
    "When dividing two numbers, Python will always return a decimal.\n",
    "\n",
    "5-Now the same division can be done using the // operator, which is called integer division. Observe the change in the output:"
   ]
  },
  {
   "cell_type": "code",
   "execution_count": 32,
   "metadata": {},
   "outputs": [
    {
     "data": {
      "text/plain": [
       "2"
      ]
     },
     "execution_count": 32,
     "metadata": {},
     "output_type": "execute_result"
    }
   ],
   "source": [
    "5 // 2 \n",
    "#You should get the following output: 2"
   ]
  },
  {
   "cell_type": "markdown",
   "metadata": {},
   "source": [
    "6-Now, using the ** exponential operator, we can perform exponentiation"
   ]
  },
  {
   "cell_type": "code",
   "execution_count": 33,
   "metadata": {},
   "outputs": [
    {
     "data": {
      "text/plain": [
       "25"
      ]
     },
     "execution_count": 33,
     "metadata": {},
     "output_type": "execute_result"
    }
   ],
   "source": [
    "5 ** 2 \n",
    "#You should get the following output:25"
   ]
  },
  {
   "cell_type": "markdown",
   "metadata": {},
   "source": [
    "7-Finally, use the modulus operator in the code and observe the output:\n"
   ]
  },
  {
   "cell_type": "code",
   "execution_count": 34,
   "metadata": {},
   "outputs": [
    {
     "data": {
      "text/plain": [
       "1"
      ]
     },
     "execution_count": 34,
     "metadata": {},
     "output_type": "execute_result"
    }
   ],
   "source": [
    "5 % 2 # The modulus operator is performed using the % operator, as shown in step 7. It returns the remainder when the first number is divided by the second.\n",
    "#You should get the following output:1"
   ]
  },
  {
   "cell_type": "markdown",
   "metadata": {},
   "source": [
    "# Order of Operations\n"
   ]
  },
  {
   "cell_type": "markdown",
   "metadata": {},
   "source": [
    "Parentheses are meaningful in Python. When it comes to computation, Python always computes what is in parentheses first.\n",
    "\n",
    "The Python language follows the same order of operations as in the math world. You may remember the acronym PEMDAS: parentheses first, exponentiation second, multiplication/division third, and addition/subtraction fourth.\n",
    "\n",
    "Consider the expression: 5 + 2 * -3\n",
    "\n",
    "The first thing to note is that the negative sign and subtraction sign are the same in Python. Let's have a look at the following example:"
   ]
  },
  {
   "cell_type": "markdown",
   "metadata": {},
   "source": [
    "1-Python will first multiply 2 and -3, and then add 5:\n"
   ]
  },
  {
   "cell_type": "code",
   "execution_count": 35,
   "metadata": {},
   "outputs": [
    {
     "data": {
      "text/plain": [
       "-1"
      ]
     },
     "execution_count": 35,
     "metadata": {},
     "output_type": "execute_result"
    }
   ],
   "source": [
    "5 + 2 * -3 \n",
    "#You should get the following output:-1"
   ]
  },
  {
   "cell_type": "markdown",
   "metadata": {},
   "source": [
    "2-If parentheses are placed around the 5 and 2, we obtain a different result:\n"
   ]
  },
  {
   "cell_type": "code",
   "execution_count": 36,
   "metadata": {},
   "outputs": [
    {
     "data": {
      "text/plain": [
       "-21"
      ]
     },
     "execution_count": 36,
     "metadata": {},
     "output_type": "execute_result"
    }
   ],
   "source": [
    "(5 + 2) * -3\n",
    "#You should get the following output:-21"
   ]
  },
  {
   "cell_type": "markdown",
   "metadata": {},
   "source": [
    "# Exercise : 1 Getting to Know the Order of Operations\n",
    "The goal of this exercise is to work with the primary math operations in Python and understand their order of execution. This exercise can be performed on the Python terminal:"
   ]
  },
  {
   "cell_type": "markdown",
   "metadata": {},
   "source": [
    "1-Subtract 5 to the 3rd power, which is 53, from 100 and divide the result by 5:\n"
   ]
  },
  {
   "cell_type": "code",
   "execution_count": 37,
   "metadata": {},
   "outputs": [
    {
     "data": {
      "text/plain": [
       "-5.0"
      ]
     },
     "execution_count": 37,
     "metadata": {},
     "output_type": "execute_result"
    }
   ],
   "source": [
    "(100 - 5 ** 3) / 5\n",
    "#You should get  the following output : -5.0"
   ]
  },
  {
   "cell_type": "markdown",
   "metadata": {},
   "source": [
    "2-Add 6 to the remainder of 15 divided 4:\n"
   ]
  },
  {
   "cell_type": "code",
   "execution_count": 38,
   "metadata": {},
   "outputs": [
    {
     "data": {
      "text/plain": [
       "9"
      ]
     },
     "execution_count": 38,
     "metadata": {},
     "output_type": "execute_result"
    }
   ],
   "source": [
    "6 + 15 % 4\n",
    "#You should get the following output:9"
   ]
  },
  {
   "cell_type": "markdown",
   "metadata": {},
   "source": [
    "3-Add 2 to the 2nd power, which is 22, to the integer division of 24 and 4:\n"
   ]
  },
  {
   "cell_type": "code",
   "execution_count": 39,
   "metadata": {},
   "outputs": [
    {
     "data": {
      "text/plain": [
       "10"
      ]
     },
     "execution_count": 39,
     "metadata": {},
     "output_type": "execute_result"
    }
   ],
   "source": [
    "2 ** 2 + 24 // 4\n",
    "#You should get the following output:10"
   ]
  },
  {
   "cell_type": "markdown",
   "metadata": {},
   "source": [
    "# Number Types: Integers and Floats\n",
    "Let's address the difference between an integer and a float. Consider 8 and 8.0. We know that 8 and 8.0 are equivalent mathematically. They both represent the same number, but they are different types. 8 is an integer, and 8.0 is a decimal or float.\n",
    "\n",
    "An integer in Python is classified as a type of int, short for integer. Integers include all positive and negative whole numbers, including 0. Examples of integers include 3, -2, 47, and 10000.\n",
    "\n",
    "Floats, by contrast, are Python types represented as decimals. All rational numbers expressed as fractions can be represented as floats. Samples of floats include 3.0, -2.0, 47.45, and 200.001.\n",
    "\n",
    "Note: We are only covering text and numeric types in this chapter. Other types will be discussed in subsequent chapters.\n",
    "\n",
    "Python types can be obtained explicitly using the type() keyword.\n"
   ]
  },
  {
   "cell_type": "markdown",
   "metadata": {},
   "source": [
    "# Exercise 2: Integer and Float Types\n",
    "The goal of this exercise is to determine types and then change those types in our Python code. This can be performed in the Jupyter Notebook:\n",
    "\n",
    "1-Begin by explicitly determining the type of 6 using the following code:\n",
    "\n"
   ]
  },
  {
   "cell_type": "code",
   "execution_count": 40,
   "metadata": {},
   "outputs": [
    {
     "data": {
      "text/plain": [
       "int"
      ]
     },
     "execution_count": 40,
     "metadata": {},
     "output_type": "execute_result"
    }
   ],
   "source": [
    "type(6)\n",
    "#You should get the following output:int"
   ]
  },
  {
   "cell_type": "markdown",
   "metadata": {},
   "source": [
    "2-Now, enter type(6.0) in the next cell of your notebook:"
   ]
  },
  {
   "cell_type": "code",
   "execution_count": 41,
   "metadata": {},
   "outputs": [
    {
     "data": {
      "text/plain": [
       "float"
      ]
     },
     "execution_count": 41,
     "metadata": {},
     "output_type": "execute_result"
    }
   ],
   "source": [
    "type(6.0)\n",
    "#You should get the following output:float"
   ]
  },
  {
   "cell_type": "markdown",
   "metadata": {},
   "source": [
    "3-Now, add 5 to 3.14. Infer the type of their sum:"
   ]
  },
  {
   "cell_type": "code",
   "execution_count": 42,
   "metadata": {},
   "outputs": [
    {
     "data": {
      "text/plain": [
       "8.14"
      ]
     },
     "execution_count": 42,
     "metadata": {},
     "output_type": "execute_result"
    }
   ],
   "source": [
    "5 + 3.14\n",
    "#You should get the following output:8.14"
   ]
  },
  {
   "cell_type": "markdown",
   "metadata": {},
   "source": [
    "4-It's clear from the output that combining an int and a float gives us a float. This makes sense. If Python returned 8, we would lose information. When possible, Python converts types to preserve information.\n",
    "\n",
    "We can, however, change types by using the type keyword."
   ]
  },
  {
   "cell_type": "markdown",
   "metadata": {},
   "source": [
    "5-Now, convert 7.999999999 to an int"
   ]
  },
  {
   "cell_type": "code",
   "execution_count": 43,
   "metadata": {},
   "outputs": [
    {
     "data": {
      "text/plain": [
       "7"
      ]
     },
     "execution_count": 43,
     "metadata": {},
     "output_type": "execute_result"
    }
   ],
   "source": [
    "int(7.999999999)\n",
    "#You should get the following output:7"
   ]
  },
  {
   "cell_type": "markdown",
   "metadata": {},
   "source": [
    "6-Convert 6 to a float:"
   ]
  },
  {
   "cell_type": "code",
   "execution_count": 44,
   "metadata": {},
   "outputs": [
    {
     "data": {
      "text/plain": [
       "6.0"
      ]
     },
     "execution_count": 44,
     "metadata": {},
     "output_type": "execute_result"
    }
   ],
   "source": [
    "float(6)\n",
    "#You should get the following output:6.0"
   ]
  },
  {
   "cell_type": "markdown",
   "metadata": {},
   "source": [
    "# Complex Number Types\n"
   ]
  },
  {
   "cell_type": "markdown",
   "metadata": {},
   "source": [
    "Python includes complex numbers as an official type. Complex numbers arise when taking the square roots of negative numbers. There is no real number whose square root is -9, so we say that it equals 3i. Another example of a complex number is 2i + 3.\n",
    "\n",
    "Note: Python uses j instead of i\n",
    "\n",
    "Let's take a look at the following code snippet to learn how to work with complex number types.\n",
    "\n",
    "Divide 2 + 3j by 1 - 5j, enclosing both operations within parentheses:"
   ]
  },
  {
   "cell_type": "code",
   "execution_count": 45,
   "metadata": {},
   "outputs": [
    {
     "data": {
      "text/plain": [
       "(-0.5+0.5j)"
      ]
     },
     "execution_count": 45,
     "metadata": {},
     "output_type": "execute_result"
    }
   ],
   "source": [
    "(2 + 3j) / (1 - 5j)\n",
    "#You should get the following output:-0.5+0.5j"
   ]
  },
  {
   "cell_type": "markdown",
   "metadata": {},
   "source": [
    "# Errors in Python\n",
    "In programming, errors are not to be feared; errors are to be welcomed. Errors are common not only for beginners but for all developers. We will learn skills to handle errors in Chapter 4, Extending Python, Files, Errors, and Graphs. For now, if you get an error, just go back and try again. Python errors in Jupyter Notebooks won't crash your computer or cause any serious problems but they will just stop running the Python code."
   ]
  },
  {
   "cell_type": "markdown",
   "metadata": {},
   "source": [
    "# Variables\n",
    "In Python, variables are memory slots that can store elements of any type. The name variable is meant to be suggestive, as the idea behind a variable is that the value can vary throughout a given program."
   ]
  },
  {
   "cell_type": "markdown",
   "metadata": {},
   "source": [
    "# Exercise 3:Assigning Variables\n",
    "The goal of this exercise is to assign values to variables. Variables can be assigned any value, as you will see in this exercise. This exercise can be performed in the Jupyter Notebook:"
   ]
  },
  {
   "cell_type": "markdown",
   "metadata": {},
   "source": [
    "1-Set x as equal to the number 2:"
   ]
  },
  {
   "cell_type": "code",
   "execution_count": 46,
   "metadata": {},
   "outputs": [],
   "source": [
    "x = 2\n",
    "#In the first step, we assigned the value 2 to the x variable."
   ]
  },
  {
   "cell_type": "code",
   "execution_count": 47,
   "metadata": {},
   "outputs": [
    {
     "data": {
      "text/plain": [
       "3"
      ]
     },
     "execution_count": 47,
     "metadata": {},
     "output_type": "execute_result"
    }
   ],
   "source": [
    "#Add 1 to the variable x:\n",
    "x + 1\n",
    "#You should get the following output:3"
   ]
  },
  {
   "cell_type": "code",
   "execution_count": 48,
   "metadata": {},
   "outputs": [
    {
     "data": {
      "text/plain": [
       "4.0"
      ]
     },
     "execution_count": 48,
     "metadata": {},
     "output_type": "execute_result"
    }
   ],
   "source": [
    "#3-Change x to 3.0 and add 1 to x:\n",
    "x = 3.0\n",
    "x + 1\n",
    "#You should get the following output:4.0\n",
    "#In this step, we change the value of x to 3.0, and as in the previous 2 steps, we will be adding 1 to the x variable."
   ]
  },
  {
   "cell_type": "markdown",
   "metadata": {},
   "source": [
    "# Changing Types\n",
    "In some languages, it's not possible for a variable to change types. This means that if the y variable is an integer, then y must always be an integer. Python, however, is dynamically typed, as we saw in Exercise 3, Assigning Variables and as illustrated in the following example:"
   ]
  },
  {
   "cell_type": "code",
   "execution_count": 49,
   "metadata": {},
   "outputs": [
    {
     "data": {
      "text/plain": [
       "int"
      ]
     },
     "execution_count": 49,
     "metadata": {},
     "output_type": "execute_result"
    }
   ],
   "source": [
    "#1-y starts as an integer:\n",
    "y = 10 \n",
    "#Check the type of y:\n",
    "type(y)"
   ]
  },
  {
   "cell_type": "code",
   "execution_count": 50,
   "metadata": {},
   "outputs": [
    {
     "data": {
      "text/plain": [
       "float"
      ]
     },
     "execution_count": 50,
     "metadata": {},
     "output_type": "execute_result"
    }
   ],
   "source": [
    "#y becomes a float:\n",
    "y=y-10.0\n",
    "#Check the type of y:\n",
    "type(y)"
   ]
  },
  {
   "cell_type": "markdown",
   "metadata": {},
   "source": [
    "In the next topic, we will be looking at reassigning variables in terms of themselves."
   ]
  },
  {
   "cell_type": "markdown",
   "metadata": {},
   "source": [
    "# Reassigning Variables in Terms of Themselves\n",
    "It's common in programming to add 1 to a variable; for instance, x = x + 1. The shorthand for this is to use += as shown in the following example:\n",
    "\n",
    "x += 1\n",
    "So, if x was 6, x is now 7. The += operator adds the number on the right to the variable and sets the variable equal to the new number."
   ]
  },
  {
   "cell_type": "code",
   "execution_count": 51,
   "metadata": {},
   "outputs": [
    {
     "data": {
      "text/plain": [
       "7"
      ]
     },
     "execution_count": 51,
     "metadata": {},
     "output_type": "execute_result"
    }
   ],
   "source": [
    "x=6\n",
    "x+=1\n",
    "x"
   ]
  },
  {
   "cell_type": "markdown",
   "metadata": {},
   "source": [
    "# Assigning Values to Variables\n",
    "#In this activity, you will assign a number to the x variable, increment the number and perform additional operations.\n",
    "#Use the following steps to complete this activity. By completing this activity, you will learn how to perform multiple mathematical operations using Python. This activity can be performed in the Jupyter Notebook.\n",
    "#The steps are as follows:\n",
    "#1-First, set 14 to the x variable.\n",
    "#2-Now, add 1 to x.\n",
    "#3-Finally, divide x by 5 and square it.\n",
    "#You should get the following output:9.0\n"
   ]
  },
  {
   "cell_type": "code",
   "execution_count": 52,
   "metadata": {},
   "outputs": [
    {
     "data": {
      "text/plain": [
       "9.0"
      ]
     },
     "execution_count": 52,
     "metadata": {},
     "output_type": "execute_result"
    }
   ],
   "source": [
    " x=14 \n",
    "((x+1)/5)**2"
   ]
  },
  {
   "cell_type": "markdown",
   "metadata": {},
   "source": [
    "# Exercise 4: Variable Names\n",
    "It's recommended to use variable names that make sense to readers. Instead of using x, the variable may be income or age. Although x is shorter, someone else reading the code might not understand what x is referring to. Try to use variable names that are indicative of the meaning.\n",
    "\n",
    "There are some restrictions when naming variables. For instance, variables cannot start with numbers, most special characters, keywords, nor built-in types. Variables also can't contain spaces between letters.\n",
    "\n",
    "According to Python conventions, it's best to use lowercase letters and to avoid special characters altogether as they will often cause errors.\n",
    "\n",
    "Python keywords are reserved in the language. They have special meanings. We will go over most of these keywords later.\n",
    "\n",
    "Running the following two lines always shows a current list of Python keywords:\n",
    "\n",
    "import keyword\n",
    "\n",
    "print (keyword.kwlist)\n"
   ]
  },
  {
   "cell_type": "code",
   "execution_count": 53,
   "metadata": {},
   "outputs": [
    {
     "name": "stdout",
     "output_type": "stream",
     "text": [
      "['False', 'None', 'True', 'and', 'as', 'assert', 'async', 'await', 'break', 'class', 'continue', 'def', 'del', 'elif', 'else', 'except', 'finally', 'for', 'from', 'global', 'if', 'import', 'in', 'is', 'lambda', 'nonlocal', 'not', 'or', 'pass', 'raise', 'return', 'try', 'while', 'with', 'yield']\n"
     ]
    }
   ],
   "source": [
    "import keyword\n",
    "\n",
    "print (keyword.kwlist)\n",
    "#Note: If you use any of the preceding keywords as variable names, Python will throw an error"
   ]
  },
  {
   "cell_type": "markdown",
   "metadata": {},
   "source": [
    "The goal of this exercise is to learn standard ways to name variables by considering good and bad practices. This exercise can be performed in Jupyter:\n",
    "Create a variable called 1st_number and assign it a value of 1:\n",
    "1st_number = 1"
   ]
  },
  {
   "cell_type": "code",
   "execution_count": 54,
   "metadata": {},
   "outputs": [
    {
     "ename": "SyntaxError",
     "evalue": "invalid syntax (<ipython-input-54-6773142bc382>, line 1)",
     "output_type": "error",
     "traceback": [
      "\u001b[1;36m  File \u001b[1;32m\"<ipython-input-54-6773142bc382>\"\u001b[1;36m, line \u001b[1;32m1\u001b[0m\n\u001b[1;33m    1st_number = 1\u001b[0m\n\u001b[1;37m             ^\u001b[0m\n\u001b[1;31mSyntaxError\u001b[0m\u001b[1;31m:\u001b[0m invalid syntax\n"
     ]
    }
   ],
   "source": [
    "1st_number = 1\n",
    "#You'll get the error  because you cannot begin a variable with a number"
   ]
  },
  {
   "cell_type": "code",
   "execution_count": 55,
   "metadata": {},
   "outputs": [],
   "source": [
    "#2-Now, let's try using letters to begin a variable:\n",
    "first_number = 1"
   ]
  },
  {
   "cell_type": "code",
   "execution_count": 56,
   "metadata": {},
   "outputs": [
    {
     "ename": "SyntaxError",
     "evalue": "invalid syntax (<ipython-input-56-5a583ac33dc1>, line 2)",
     "output_type": "error",
     "traceback": [
      "\u001b[1;36m  File \u001b[1;32m\"<ipython-input-56-5a583ac33dc1>\"\u001b[1;36m, line \u001b[1;32m2\u001b[0m\n\u001b[1;33m    my_$ = 1000.00\u001b[0m\n\u001b[1;37m       ^\u001b[0m\n\u001b[1;31mSyntaxError\u001b[0m\u001b[1;31m:\u001b[0m invalid syntax\n"
     ]
    }
   ],
   "source": [
    "#3-Now, use special characters in a variable name, as in the following code:\n",
    "my_$ = 1000.00\n",
    "#You get the error  because you cannot include a variable with a special character."
   ]
  },
  {
   "cell_type": "markdown",
   "metadata": {},
   "source": [
    "# Multiple Variables\n",
    "Most programs contain multiple variables. The same rules apply as when working with single variables. Let's practice working with multiple variables in the following exercise."
   ]
  },
  {
   "cell_type": "markdown",
   "metadata": {},
   "source": [
    "# Exercise 5: Multiple Variables in Python\n",
    "In this exercise, you will perform mathematical operations using more than one variable. This exercise can be performed in the Jupyter Notebook:"
   ]
  },
  {
   "cell_type": "code",
   "execution_count": 57,
   "metadata": {},
   "outputs": [
    {
     "data": {
      "text/plain": [
       "6"
      ]
     },
     "execution_count": 57,
     "metadata": {},
     "output_type": "execute_result"
    }
   ],
   "source": [
    "#1-Assign 5 to x and 2 to y:\n",
    "x = 5\n",
    "y = 2\n",
    "#2-Add x to x and subtract y to the second power:\n",
    "x + x - y ** 2\n",
    "#You should get the following output:6\n",
    "\n"
   ]
  },
  {
   "cell_type": "markdown",
   "metadata": {},
   "source": [
    "Python has a lot of cool shortcuts, and multiple variable assignment is one of them. Here's the Pythonic way of declaring two variables. Pythonic is a term used to describe code written in the optimum readable format. This will be covered in Chapter 7, Becoming Pythonic."
   ]
  },
  {
   "cell_type": "code",
   "execution_count": 58,
   "metadata": {},
   "outputs": [
    {
     "data": {
      "text/plain": [
       "1"
      ]
     },
     "execution_count": 58,
     "metadata": {},
     "output_type": "execute_result"
    }
   ],
   "source": [
    "#3-Assign 8 to x and 5 to y in one line:\n",
    "x, y = 8, 5\n",
    "#4-Find the integer division of x and y:\n",
    "x // y\n",
    "#You should get the following output:1"
   ]
  },
  {
   "cell_type": "markdown",
   "metadata": {},
   "source": [
    "In this exercise, we practiced working with multiple variables, and we even learned the Pythonic way to assign values to multiple variables in one line. It's rare to only work with one variable in practice."
   ]
  },
  {
   "cell_type": "markdown",
   "metadata": {},
   "source": [
    "# Comments\n",
    "Comments are extra blocks of code that do not run. They are meant to clarify code for readers. In Python, any text following the # symbol on a single line is a comment. Comments followed by the # symbol may be inline or above the text.\n",
    "\n",
    "Note: Consistent use of comments will make reviewing and debugging code much easier. It's strongly advisable to practice this from here on out."
   ]
  },
  {
   "cell_type": "markdown",
   "metadata": {},
   "source": [
    "# Exercise 6: Comments in Python\n",
    "n this exercise, you will learn two different ways to display comments in Python. This exercise can be performed in the Jupyter Notebook:\n",
    "\n",
    "Write a comment that states This is a comment:\n",
    "# This is a comment\n",
    "When you execute this cell, nothing should happen.\n",
    "\n",
    "Set the pi variable as equal to 3.14. Add a comment above the line stating what you did:\n",
    "# Set the variable pi equal to 3.14\n",
    "pi = 3.14\n",
    "Adding the comment clarifies what follows.\n",
    "\n",
    "Now, try setting the pi variable as equal to 3.14 again, but add the comment stating what you did on the same line:\n",
    "pi = 3.14    # Set the variable pi equal to 3.14\n",
    "Although it's less common to provide comments on the same line of code, it's acceptable and often appropriate.\n",
    "\n",
    "You should get the following output from the Jupyter Notebook:\n"
   ]
  },
  {
   "cell_type": "code",
   "execution_count": 59,
   "metadata": {},
   "outputs": [],
   "source": [
    "# this is comment\n",
    "# Set the variable pi equal to 3.14\n",
    "pi = 3.14\n",
    "pi = 3.14 # Set the variable pi equal to 3.14"
   ]
  },
  {
   "cell_type": "markdown",
   "metadata": {},
   "source": [
    "In this exercise, we have learned how to write comments in Python. As a developer who will be communicating with others, writing comments is essential to make your code legible to others."
   ]
  },
  {
   "cell_type": "markdown",
   "metadata": {},
   "source": [
    "# Docstrings\n",
    "Docstrings, short for document strings, state what a given document, such as a program, a function, or a class, actually does. The primary difference in syntax between a docstring and a comment is that docstrings are intended to be written over multiple lines, which can be accomplished with triple quotes. They also introduce a given document, so they are placed at the top.\n",
    "\n",
    "Here is an example of a docstring:"
   ]
  },
  {
   "cell_type": "code",
   "execution_count": 60,
   "metadata": {},
   "outputs": [
    {
     "data": {
      "text/plain": [
       "'\\nThis document will explore why comments are particularly useful when writing and reading code.\\n'"
      ]
     },
     "execution_count": 60,
     "metadata": {},
     "output_type": "execute_result"
    }
   ],
   "source": [
    "\"\"\"\n",
    "This document will explore why comments are particularly useful when writing and reading code.\n",
    "\"\"\"\n",
    "#When we execute this cell, nothing really happens. Docstrings, like comments, are designed as information for developers reading and writing code; they have nothing to do with the output of code."
   ]
  },
  {
   "cell_type": "markdown",
   "metadata": {},
   "source": [
    "# Strings: Concatenation, Methods, and input()\n",
    "We have learned how to express numbers, operations, and variables. What about words? In Python, anything that goes between 'single' or \"double\" quotes is considered a string. Strings are commonly used to express words, but they have many other uses, including displaying information to the user and retrieving information from a user.\n",
    "\n",
    "Examples include 'hello', \"hello\", 'HELLoo00', '12345', and 'fun_characters: !@ #$%^&*('.\n",
    "\n",
    "In this section, we will gain proficiency with strings by examining string methods, string concatenation, and useful built-in functions including print() and len() with a wide range of examples."
   ]
  },
  {
   "cell_type": "markdown",
   "metadata": {},
   "source": [
    "# String Syntax\n",
    "Although strings may use single or double quotes, a given string must be internally consistent. That is, if a string starts with a single quote, it must end with a single quote. The same is true of double quotes.\n",
    "\n",
    "Let's take a look at valid and invalid strings in Exercise 7, String Error Syntax.\n",
    "\n",
    "Python uses the backslash character, \\, called an escape sequence in strings, to allow for the insertion of any type of quote inside of strings. The character that follows the backslash in an escape sequence may be interpreted as mentioned in Python's official documentation, which follows. Of particular note is \\n, which is used to create a new line\n",
    "Note: For more information on strings, you can refer to https://docs.python.org/2.0/ref/strings.html"
   ]
  },
  {
   "cell_type": "markdown",
   "metadata": {},
   "source": [
    "# String Operations and Concatenation\n",
    "The multiplication and addition operators work with strings as well. In particular, the + operator combines two strings into one and is referred to as string concatenation. The * operator, for multiplication, repeats a string. In the following exercise, we will be looking at string concatenation in our string samples."
   ]
  },
  {
   "cell_type": "markdown",
   "metadata": {},
   "source": [
    "# Exercise 7:String Error Syntax\n",
    "The goal of this exercise is to learn appropriate string syntax:"
   ]
  },
  {
   "cell_type": "code",
   "execution_count": 61,
   "metadata": {},
   "outputs": [],
   "source": [
    "#1-Enter a valid string:\n",
    "bookstore = 'City Lights'"
   ]
  },
  {
   "cell_type": "code",
   "execution_count": 62,
   "metadata": {},
   "outputs": [
    {
     "ename": "SyntaxError",
     "evalue": "EOL while scanning string literal (<ipython-input-62-4be145a2ea97>, line 2)",
     "output_type": "error",
     "traceback": [
      "\u001b[1;36m  File \u001b[1;32m\"<ipython-input-62-4be145a2ea97>\"\u001b[1;36m, line \u001b[1;32m2\u001b[0m\n\u001b[1;33m    bookstore = 'City Lights''\u001b[0m\n\u001b[1;37m                              ^\u001b[0m\n\u001b[1;31mSyntaxError\u001b[0m\u001b[1;31m:\u001b[0m EOL while scanning string literal\n"
     ]
    }
   ],
   "source": [
    "#Now enter an invalid string:\n",
    "bookstore = 'City Lights''\n",
    "#You should get the Error"
   ]
  },
  {
   "cell_type": "markdown",
   "metadata": {},
   "source": [
    "# Escape Sequences with Quotes\n",
    "Here is how an escape sequence works with quotes. The backslash overrides the single quote as an end quote and allows it to be interpreted as a string character:\n",
    "bookstore = 'Moe\\'s'"
   ]
  },
  {
   "cell_type": "markdown",
   "metadata": {},
   "source": [
    "# Multi-Line Strings\n",
    "Short strings always display nicely. But, what about multi-line strings? It can be cumbersome to define a paragraph variable that includes a string over multiple lines. In some IDEs, the string may run off the screen, and it may be difficult to read. In addition, it might be advantageous to have line breaks at specific points for the user.\n",
    "\n",
    "Note: Line breaks will not work inside single or double quotes.\n",
    "\n",
    "When strings need to span multiple lines, Python provides triple quotes, using single or double quotation marks, as a nice option.\n",
    "\n",
    "Here is an example of triple quotes (''') used to write a multi-line string:"
   ]
  },
  {
   "cell_type": "code",
   "execution_count": 63,
   "metadata": {},
   "outputs": [],
   "source": [
    "vacation_note = '''\n",
    "During our vacation to San Francisco, we waited in a long line by \n",
    "Powell St. Station to take the cable car. Tap dancers performed on \n",
    "wooden boards. By the time our cable car arrived, we started looking \n",
    "online for a good place to eat. We're heading to North Beach.\n",
    "'''\n",
    "#Note: Multi-line strings take on the same syntax as a docstring. The difference is that a docstring appears at the beginning of a document, and a multi-line string is defined within the program."
   ]
  },
  {
   "cell_type": "markdown",
   "metadata": {},
   "source": [
    "# The print() Function\n",
    "The print() function is used to display information to the user, or to the developer. It's one of Python's most widely used built-in functions.\n"
   ]
  },
  {
   "cell_type": "code",
   "execution_count": 64,
   "metadata": {},
   "outputs": [
    {
     "name": "stdout",
     "output_type": "stream",
     "text": [
      "\n",
      "During our vacation to San Francisco, we waited in a long line by \n",
      "Powell St. Station to take the cable car. Tap dancers performed on \n",
      "wooden boards. By the time our cable car arrived, we started looking \n",
      "online for a good place to eat. We're heading to North Beach.\n",
      "\n"
     ]
    }
   ],
   "source": [
    "print (vacation_note)"
   ]
  },
  {
   "cell_type": "markdown",
   "metadata": {},
   "source": [
    "# Exercise 8:Displaying Strings\n",
    "In this exercise, you will learn different ways to display strings:"
   ]
  },
  {
   "cell_type": "code",
   "execution_count": 66,
   "metadata": {},
   "outputs": [
    {
     "name": "stdout",
     "output_type": "stream",
     "text": [
      "Hello\n"
     ]
    }
   ],
   "source": [
    "#Define a greeting variable with the value 'Hello'. Display the greeting using the print() function:\n",
    "greeting = 'Hello'\n",
    "print(greeting)\n",
    "#You should get the following output: Hello"
   ]
  },
  {
   "cell_type": "markdown",
   "metadata": {},
   "source": [
    "# String Operations and Concatenation\n",
    "The multiplication and addition operators work with strings as well. In particular, the + operator combines two strings into one and is referred to as string concatenation. The * operator, for multiplication, repeats a string. In the following exercise, we will be looking at string concatenation in our string samples."
   ]
  },
  {
   "cell_type": "markdown",
   "metadata": {},
   "source": [
    "# Exercise 9: String Concatenation\n",
    "In this exercise, you will learn how to combine strings using string concatenation:"
   ]
  },
  {
   "cell_type": "code",
   "execution_count": 68,
   "metadata": {},
   "outputs": [
    {
     "name": "stdout",
     "output_type": "stream",
     "text": [
      "HolaSenor.\n"
     ]
    }
   ],
   "source": [
    "#Combine the spanish_greeting used in Exercise 8, Displaying Strings, with using the + operator and display the results:\n",
    "spanish_greeting = 'Hola'\n",
    "print(spanish_greeting + 'Senor.')\n",
    "#You should get the following output:HolaSenor\n",
    "#Notice that there are no spaces between greeting and name. If we want spaces between strings, we need to explicitly add them."
   ]
  },
  {
   "cell_type": "code",
   "execution_count": 69,
   "metadata": {},
   "outputs": [
    {
     "name": "stdout",
     "output_type": "stream",
     "text": [
      "Hola Senor.\n"
     ]
    }
   ],
   "source": [
    "#Now, combine spanish_greeting with 'Senor.' using the + operator, but this time, include a space:\n",
    "spanish_greeting = 'Hola '\n",
    "print(spanish_greeting + 'Senor.')\n",
    "#You should get the following output:Hola Senor."
   ]
  },
  {
   "cell_type": "code",
   "execution_count": 71,
   "metadata": {},
   "outputs": [
    {
     "name": "stdout",
     "output_type": "stream",
     "text": [
      "HelloHelloHelloHelloHello\n"
     ]
    }
   ],
   "source": [
    "#Display the greeting 5 times using the * multiplication operator:\n",
    "\n",
    "greeting = 'Hello'\n",
    "print(greeting * 5)\n",
    "#You should get the following output:HelloHelloHelloHelloHello\n",
    "#By completing this exercise successfully, you have combined strings using string concatenation using the + and * operators."
   ]
  },
  {
   "cell_type": "markdown",
   "metadata": {},
   "source": [
    "# String Interpolation\n",
    "When writing strings, you may want to include variables in the output. String interpolation includes the variable names as placeholders within the string. There are two standard methods for achieving string interpolation: comma separators and format."
   ]
  },
  {
   "cell_type": "markdown",
   "metadata": {},
   "source": [
    "# Comma Separators\n",
    "Variables may be interpolated into strings using commas to separate clauses. It's similar to the + operator, except it adds spacing for you.\n",
    "\n",
    "Let's have a look at an example here, where we add Ciao within a print statement:# Comma Separators\n"
   ]
  },
  {
   "cell_type": "code",
   "execution_count": 73,
   "metadata": {},
   "outputs": [
    {
     "name": "stdout",
     "output_type": "stream",
     "text": [
      "Should we greet people with Ciao in North Beach?\n"
     ]
    }
   ],
   "source": [
    "italian_greeting = 'Ciao'\n",
    "print('Should we greet people with', italian_greeting, 'in North Beach?')\n",
    "#You should get the following output:Should we greet people with Ciao in North Beach?"
   ]
  },
  {
   "cell_type": "markdown",
   "metadata": {},
   "source": [
    "# Format\n",
    "With format, as with commas, Python types, int, float, and so on, are converted into strings upon execution. The format is accessed using brackets and dot notation:"
   ]
  },
  {
   "cell_type": "code",
   "execution_count": 75,
   "metadata": {},
   "outputs": [
    {
     "name": "stdout",
     "output_type": "stream",
     "text": [
      "The founder of City Lights Bookstore, Lawrence Ferlinghetti, is now 100 years old.\n"
     ]
    }
   ],
   "source": [
    "owner = 'Lawrence Ferlinghetti'\n",
    "age = 100\n",
    "print('The founder of City Lights Bookstore, {}, is now {} years old.'.format(owner, age))\n",
    "#You should get the following output:The founder of City Lights Bookstore, Lawrence Ferlinghetti, is now 100 years old."
   ]
  },
  {
   "cell_type": "markdown",
   "metadata": {},
   "source": [
    "The format works as follows. First, define your variables. Next, in the given string, use {} in place of each variable. At the end of the string, add a dot (.) followed by the format keyword. Then, in parentheses, list each variable in the desired order of appearance. In the next section, we will look at the built-in string functions available to a Python developer."
   ]
  },
  {
   "cell_type": "markdown",
   "metadata": {},
   "source": [
    "# The len() Function\n",
    "There are many built-in functions that are particularly useful for strings. One such function is len(), which is short for length. The len() function determines the number of characters in a given string.\n",
    "\n",
    "Note that the len() function will also count any blank spaces in a given string.\n",
    "\n",
    "We'll use the arabic_greeting variable used in Exercise 8, Displaying Strings:"
   ]
  },
  {
   "cell_type": "code",
   "execution_count": 80,
   "metadata": {},
   "outputs": [
    {
     "data": {
      "text/plain": [
       "16"
      ]
     },
     "execution_count": 80,
     "metadata": {},
     "output_type": "execute_result"
    }
   ],
   "source": [
    "len(\"arabic_greetings\")\n",
    "#You should get the following output:16"
   ]
  },
  {
   "cell_type": "markdown",
   "metadata": {},
   "source": [
    "Note: When entering variables in Jupyter Notebooks, you can use tab completion. After you type in a letter or two, you can press the Tab key. Python then displays all valid continuations that will complete your expression. If done correctly, you should see your variable listed. Then you can highlight the variable and press Enter. Using tab completion will limit errors."
   ]
  },
  {
   "cell_type": "markdown",
   "metadata": {},
   "source": [
    "# Exercise 10: String Methods\n",
    "All Python types, including strings, have their own methods. These methods generally provide shortcuts for implementing useful tasks. Methods in Python, as in many other languages, are accessed via dot notation.\n",
    "\n",
    "Let's use a new variable, name, to access a variety of methods. We can see all methods by pressing the Tab button after the variable name and a dot.\n"
   ]
  },
  {
   "cell_type": "code",
   "execution_count": 81,
   "metadata": {},
   "outputs": [],
   "source": [
    "#In this exercise, you will learn how to implement string methods.\n",
    "#Set a new variable, called name, to any name that you like:\n",
    "name = 'Corey'\n",
    "#Note: Access string methods by pressing the Tab button after the variable name and dot (.), as demonstrated in the following screenshot.\n",
    "#You can scroll down the list to obtain all available string methods."
   ]
  },
  {
   "cell_type": "code",
   "execution_count": 82,
   "metadata": {},
   "outputs": [
    {
     "data": {
      "text/plain": [
       "'corey'"
      ]
     },
     "execution_count": 82,
     "metadata": {},
     "output_type": "execute_result"
    }
   ],
   "source": [
    "#Now, convert the name into lowercase letters using the lower() function:\n",
    "name.lower()\n",
    "#You should get the following output:'corey'"
   ]
  },
  {
   "cell_type": "code",
   "execution_count": 84,
   "metadata": {},
   "outputs": [
    {
     "data": {
      "text/plain": [
       "'Corey'"
      ]
     },
     "execution_count": 84,
     "metadata": {},
     "output_type": "execute_result"
    }
   ],
   "source": [
    "#Now, capitalize the name using the capitalize() function:\n",
    "name.capitalize()\n",
    "#You should get the following output:'Corey'"
   ]
  },
  {
   "cell_type": "code",
   "execution_count": 86,
   "metadata": {},
   "outputs": [
    {
     "data": {
      "text/plain": [
       "'COREY'"
      ]
     },
     "execution_count": 86,
     "metadata": {},
     "output_type": "execute_result"
    }
   ],
   "source": [
    "#Convert the name into uppercase letters using upper():\n",
    "name.upper()\n",
    "#You should get the following output:'COREY'"
   ]
  },
  {
   "cell_type": "code",
   "execution_count": 87,
   "metadata": {},
   "outputs": [
    {
     "data": {
      "text/plain": [
       "1"
      ]
     },
     "execution_count": 87,
     "metadata": {},
     "output_type": "execute_result"
    }
   ],
   "source": [
    "#Finally, count the number of o instances in the word 'Corey':\n",
    "name.count('o')\n",
    "#You should get the following output:1"
   ]
  },
  {
   "cell_type": "markdown",
   "metadata": {},
   "source": [
    "# Casting\n",
    "It's common for numbers to be expressed as strings when dealing with input and output. Note that '5' and 5 are different types. We can easily convert between numbers and strings using the appropriate type keywords. In the following exercise, we are going to be using types and casting to understand the concepts much better."
   ]
  },
  {
   "cell_type": "markdown",
   "metadata": {},
   "source": [
    "# Exercise 11: Types and Casting\n",
    "In this exercise, you will learn how types and casting work together:\n"
   ]
  },
  {
   "cell_type": "code",
   "execution_count": 88,
   "metadata": {},
   "outputs": [
    {
     "data": {
      "text/plain": [
       "str"
      ]
     },
     "execution_count": 88,
     "metadata": {},
     "output_type": "execute_result"
    }
   ],
   "source": [
    "#Determine the type of '5':\n",
    "type('5')\n",
    "#You should get the following output:str"
   ]
  },
  {
   "cell_type": "code",
   "execution_count": 89,
   "metadata": {},
   "outputs": [
    {
     "data": {
      "text/plain": [
       "'57'"
      ]
     },
     "execution_count": 89,
     "metadata": {},
     "output_type": "execute_result"
    }
   ],
   "source": [
    "#Now, add '5' and '7':\n",
    "'5' + '7'\n",
    "#You should get the following output:'57'"
   ]
  },
  {
   "cell_type": "markdown",
   "metadata": {},
   "source": [
    "The answer is not 12 because, here, 5 and 7 are of type string, not of type int. Recall that the + operator concatenates strings. If we want to add 5 and 7, we must convert them first."
   ]
  },
  {
   "cell_type": "code",
   "execution_count": 91,
   "metadata": {},
   "outputs": [
    {
     "data": {
      "text/plain": [
       "5"
      ]
     },
     "execution_count": 91,
     "metadata": {},
     "output_type": "execute_result"
    }
   ],
   "source": [
    "#Convert the '5' string to an int using the code mentioned in the following code snippet:\n",
    "int('5')\n",
    "#You should get the following output:5\n",
    "#Now 5 is a number, so it can be combined with other numbers via standard mathematical operations."
   ]
  },
  {
   "cell_type": "code",
   "execution_count": 94,
   "metadata": {},
   "outputs": [
    {
     "data": {
      "text/plain": [
       "12"
      ]
     },
     "execution_count": 94,
     "metadata": {},
     "output_type": "execute_result"
    }
   ],
   "source": [
    "#Add '5' and '7' by converting them to int first:\n",
    "int('5') + int('7')\n",
    "#You should get the following output:12"
   ]
  },
  {
   "cell_type": "markdown",
   "metadata": {},
   "source": [
    "# The input() Function\n",
    "The input() function is a built-in function that allows user input. It's a little different than what we have seen so far. Let's see how it works in action.\n"
   ]
  },
  {
   "cell_type": "markdown",
   "metadata": {},
   "source": [
    "# Exercise 12: The input() Function\n",
    "In this exercise, you will utilize the input() function to obtain information from the user:\n"
   ]
  },
  {
   "cell_type": "code",
   "execution_count": 96,
   "metadata": {},
   "outputs": [
    {
     "name": "stdout",
     "output_type": "stream",
     "text": [
      "What is your name?\n"
     ]
    }
   ],
   "source": [
    "# Choose a question to ask\n",
    "print('What is your name?')\n",
    "#You should get the following output:What is your name?"
   ]
  },
  {
   "cell_type": "code",
   "execution_count": 100,
   "metadata": {},
   "outputs": [
    {
     "name": "stdout",
     "output_type": "stream",
     "text": [
      "arsalan\n"
     ]
    }
   ],
   "source": [
    "#Now, set a variable that will be equal to the input() function, as mentioned in the following code snippet:\n",
    "name = input()\n",
    "#You should get the following output:input any name  and enter"
   ]
  },
  {
   "cell_type": "code",
   "execution_count": 102,
   "metadata": {},
   "outputs": [
    {
     "name": "stdout",
     "output_type": "stream",
     "text": [
      "Hello, arsalan.\n"
     ]
    }
   ],
   "source": [
    "#Finally, select an appropriate output:\n",
    "print('Hello, ' + name + '.')\n",
    "#You should get the following output:Hello, arsalan."
   ]
  },
  {
   "cell_type": "markdown",
   "metadata": {},
   "source": [
    "Note: input() can be finicky in Jupyter Notebooks. If an error arises when entering the code, try restarting the kernel. Restarting the kernel will erase the current memory and start each cell afresh. This is advisable if the notebook stalls."
   ]
  },
  {
   "cell_type": "markdown",
   "metadata": {},
   "source": [
    "\n"
   ]
  },
  {
   "cell_type": "markdown",
   "metadata": {},
   "source": [
    "# String Indexing and Slicing\n",
    "Indexing and slicing are crucial parts of programming. In data analysis, indexing and slicing DataFrames is essential to keep track of rows and columns, something we will practice in Chapter 10, Data Analytics with pandas and NumPy. The mechanics behind indexing and slicing DataFrames is the same as indexing and slicing strings, which we will learn in this chapter.\n",
    "\n",
    "Indexing\n",
    "The characters of Python strings exist in specific locations; in other words, their order counts. The index is a numerical representation of where each character is located. The first character is at index 0, the second character is at index 1; the third character is at index 2, and so on.\n",
    "\n",
    "Note: We always start at 0 when indexing.\n",
    "\n",
    "Consider the following string:\n",
    "\n",
    "destination = 'San Francisco'\n",
    "'S' is in the 0th index, 'a' is in the 1st index, 'n' is in the 2nd index, and so on. The characters of each index are accessed using bracket notation as follows:\n",
    "\n",
    "destination[0]\n",
    "You should get the following output:\n",
    "\n",
    "'S'\n",
    "To access the data from the first index, enter the following:\n",
    "\n",
    "destination[1]\n",
    "You should get the following output:\n",
    "\n",
    "'a'\n",
    "To access the data from the second index, enter the following:\n",
    "\n",
    "destination[2]\n",
    "You should get the following output:\n",
    "\n",
    "'n'\n",
    "The character value for San Francisco and the corresponding index count :\n",
    "\n",
    ": Diagrammatic representation of the character values and the corresponding positive index values \n",
    "\n",
    "Now, try adding a -1 as the index value and observe the output:\n",
    "\n",
    "destination[-1]\n",
    "You should get the following output:\n",
    "\n",
    "'o'\n",
    "Note: Negative numbers start at the end of the string. (It makes sense to start with -1 since -0 is the same as 0.)\n",
    "\n",
    "To access the data from the rear of San Francisco, we use the negative sign in this case -2:\n",
    "\n",
    "destination[-2]\n",
    "You should get the following output:\n",
    "\n",
    "'c'\n",
    "The following figure 1.16 mentions the characters sco from the word Francisco, and the corresponding index count:\n",
    "\n",
    "Figure 1.16 Index value for the negative values for San Francisco \n",
    "\n",
    "Here is one more example:\n",
    "\n",
    "bridge = 'Golden Gate'\n",
    "bridge[6]\n",
    "You should get the following output:\n",
    "\n",
    "' '\n",
    "You may be wondering whether you did something wrong because no letter is displayed. On the contrary, it's perfectly fine to have an empty string. In fact, an empty string is one of the most common strings in programming."
   ]
  },
  {
   "cell_type": "code",
   "execution_count": 104,
   "metadata": {},
   "outputs": [],
   "source": [
    "destination = 'San Francisco'"
   ]
  },
  {
   "cell_type": "code",
   "execution_count": 105,
   "metadata": {},
   "outputs": [
    {
     "data": {
      "text/plain": [
       "'S'"
      ]
     },
     "execution_count": 105,
     "metadata": {},
     "output_type": "execute_result"
    }
   ],
   "source": [
    "destination[0]"
   ]
  },
  {
   "cell_type": "code",
   "execution_count": 106,
   "metadata": {},
   "outputs": [
    {
     "data": {
      "text/plain": [
       "'a'"
      ]
     },
     "execution_count": 106,
     "metadata": {},
     "output_type": "execute_result"
    }
   ],
   "source": [
    "destination[1]"
   ]
  },
  {
   "cell_type": "code",
   "execution_count": 107,
   "metadata": {},
   "outputs": [
    {
     "data": {
      "text/plain": [
       "'n'"
      ]
     },
     "execution_count": 107,
     "metadata": {},
     "output_type": "execute_result"
    }
   ],
   "source": [
    "destination[2]"
   ]
  },
  {
   "cell_type": "code",
   "execution_count": 108,
   "metadata": {},
   "outputs": [
    {
     "data": {
      "text/plain": [
       "'o'"
      ]
     },
     "execution_count": 108,
     "metadata": {},
     "output_type": "execute_result"
    }
   ],
   "source": [
    "destination[-1]"
   ]
  },
  {
   "cell_type": "code",
   "execution_count": 109,
   "metadata": {},
   "outputs": [
    {
     "data": {
      "text/plain": [
       "'c'"
      ]
     },
     "execution_count": 109,
     "metadata": {},
     "output_type": "execute_result"
    }
   ],
   "source": [
    "destination[-2]"
   ]
  },
  {
   "cell_type": "code",
   "execution_count": 110,
   "metadata": {},
   "outputs": [
    {
     "data": {
      "text/plain": [
       "' '"
      ]
     },
     "execution_count": 110,
     "metadata": {},
     "output_type": "execute_result"
    }
   ],
   "source": [
    "bridge = 'Golden Gate'\n",
    "bridge[6]"
   ]
  },
  {
   "cell_type": "markdown",
   "metadata": {},
   "source": [
    "# Slicing\n",
    "A slice is a subset of a string or other element. A slice could be the whole element or one character, but it's more commonly a group of adjoining characters.\n",
    "\n",
    "Let's say we want to access the fifth through eleventh letters of a string. So, we start at index 4 and end at index 10, as was explained in the previous Indexing section. When slicing, the colon symbol (:) is inserted between indices, like so: [4:10].\n",
    "\n",
    "There is one caveat. The lower bound of a slice is always included, but the upper bound is not. So, in the preceding example, if we want to include the 10th index, we must use [4:11].\n",
    "\n",
    "Let's now have a look at the following example for slicing.\n",
    "\n",
    "Retrieve the fifth through eleventh letters of San Francisco, which we used in the previous Indexing section:\n",
    "\n",
    "destination[4:11]\n",
    "You should get the following output:\n",
    "\n",
    "'Francis'\n",
    "Retrieve the first three letters of destination:\n",
    "\n",
    "destination[0:3]\n",
    "You should get the following output:\n",
    "\n",
    "'San'\n",
    "There is a shortcut for getting the first n letters of a string. If the first numerical character is omitted, Python will start at the 0th index.\n",
    "\n",
    "Now, to retrieve the first eight letters of destination using the shortcut, use the following code:\n",
    "\n",
    "destination[:8]\n",
    "You should get the following output:\n",
    "\n",
    "'San Fran'\n",
    "Finally, to retrieve the last three letters of destination, use this code:\n",
    "\n",
    "destination[-3:]\n",
    "You should get the following output:\n",
    "\n",
    "'sco'\n",
    "The negative sign, -, means that we start at the third-to-last letter, and the colon means that we go to the end.\n",
    "\n",
    "# Strings and Their Methods\n",
    "We started with string syntax, before moving on to a variety of ways to concatenate strings. We looked at useful built-in functions including len() and examined a sample of string methods. Next, we casted numbers as strings and vice versa.\n",
    "\n",
    "The input() function is used to access user input. This really extends what you can do. Responding to user feedback is a core element of programming that we will continue to develop. Finally, we closed with two powerful tools that developers frequently use: indexing and slicing.\n",
    "\n",
    "There is a great deal more to learn about strings. You will encounter additional problems and methods throughout this course. This introductory chapter is meant to equip you with the basic skills needed to handle strings going forward.\n",
    "\n",
    "Next, we will learn how to branch programs using conditionals and Booleans."
   ]
  },
  {
   "cell_type": "code",
   "execution_count": 111,
   "metadata": {},
   "outputs": [
    {
     "data": {
      "text/plain": [
       "'Francis'"
      ]
     },
     "execution_count": 111,
     "metadata": {},
     "output_type": "execute_result"
    }
   ],
   "source": [
    "destination[4:11]"
   ]
  },
  {
   "cell_type": "code",
   "execution_count": 112,
   "metadata": {},
   "outputs": [
    {
     "data": {
      "text/plain": [
       "'San'"
      ]
     },
     "execution_count": 112,
     "metadata": {},
     "output_type": "execute_result"
    }
   ],
   "source": [
    "destination[0:3]"
   ]
  },
  {
   "cell_type": "code",
   "execution_count": 113,
   "metadata": {},
   "outputs": [
    {
     "data": {
      "text/plain": [
       "'San Fran'"
      ]
     },
     "execution_count": 113,
     "metadata": {},
     "output_type": "execute_result"
    }
   ],
   "source": [
    "destination[:8]"
   ]
  },
  {
   "cell_type": "code",
   "execution_count": 114,
   "metadata": {},
   "outputs": [
    {
     "data": {
      "text/plain": [
       "'sco'"
      ]
     },
     "execution_count": 114,
     "metadata": {},
     "output_type": "execute_result"
    }
   ],
   "source": [
    "destination[-3:]"
   ]
  },
  {
   "cell_type": "markdown",
   "metadata": {},
   "source": [
    "# Booleans and Conditionals\n",
    "Booleans, named after George Boole, take the values of True or False. Although the idea behind Booleans is rather simple, they make programming immensely more powerful.\n",
    "\n",
    "When writing programs, for instance, it's useful to consider multiple cases. If we prompt the user for information, we may want to respond differently depending upon the user's answer.\n",
    "\n",
    "For instance, if the user gives a rating of 0 or 1, we may give a different response than a rating of 9 or 10. The keyword here is if.\n",
    "\n",
    "Programming based upon multiple cases is referred to as branching. Each branch is represented by a different conditional. Conditionals often start with an 'if' clause, followed by 'else' clauses. The choice of a branch is determined by Booleans, depending on whether the given conditions are True or False.\n",
    "\n",
    "Booleans\n",
    "In Python, a Boolean class object is represented by the bool keyword and has a value of True or False.\n",
    "\n",
    "Note: Boolean values must be capitalized in Python.\n",
    "\n",
    "# Exercise 13: Boolean Variables\n",
    "In this short exercise, you will use, assign, and check the type of Boolean variables:\n",
    "\n",
    "Open a new Jupyter Notebook.\n",
    "Now, use a Boolean to classify someone as being over 18 using the following code snippet:\n",
    "over_18 = True\n",
    "type(over_18)\n",
    "You should get the following output:\n",
    "\n",
    "bool\n",
    "The output is satisfied, and the type is mentioned as a Boolean, that is, bool.\n",
    "\n",
    "Use a Boolean to classify someone as not being over 21:\n",
    "over_21 = False\n",
    "type(over_21)\n",
    "You should get the following output:\n",
    "\n",
    "bool\n",
    "In this short, quick exercise, you have learned about the bool type, one of Python's most important types."
   ]
  },
  {
   "cell_type": "code",
   "execution_count": 115,
   "metadata": {},
   "outputs": [
    {
     "data": {
      "text/plain": [
       "bool"
      ]
     },
     "execution_count": 115,
     "metadata": {},
     "output_type": "execute_result"
    }
   ],
   "source": [
    "over_18 = True\n",
    "type(over_18)"
   ]
  },
  {
   "cell_type": "code",
   "execution_count": 116,
   "metadata": {},
   "outputs": [
    {
     "data": {
      "text/plain": [
       "bool"
      ]
     },
     "execution_count": 116,
     "metadata": {},
     "output_type": "execute_result"
    }
   ],
   "source": [
    "over_21 = False\n",
    "type(over_21)"
   ]
  },
  {
   "cell_type": "markdown",
   "metadata": {},
   "source": [
    "# Logical Operators and Comparison Operators\n",
    "Booleans may be combined with the and, or, and not logical operators.\n",
    "\n",
    "For instance, consider the following propositions:\n",
    "\n",
    "A = True\n",
    "\n",
    "B = True\n",
    "\n",
    "Y = False\n",
    "\n",
    "Z = False\n",
    "\n",
    "Not simply negates the value, as follows:\n",
    "\n",
    "not A = False\n",
    "\n",
    "not Z = True.\n",
    "\n",
    "And is only true if both propositions are true. Otherwise, it is false:\n",
    "\n",
    "A and B = True\n",
    "\n",
    "A and Y = False\n",
    "\n",
    "Y and Z = False\n",
    "\n",
    "Or is true if either proposition is true. Otherwise, it is false:\n",
    "\n",
    "A or B = True\n",
    "\n",
    "A or Y = True\n",
    "\n",
    "Y or Z = False\n",
    "\n",
    "Now let's use them in the following practice example.\n",
    "\n",
    "Determine whether the following conditions are True or False given that  over_18 = True and over_21 = False:\n",
    "\n",
    "over_18 and over_21\n",
    "\n",
    "over_18 or over_21\n",
    "\n",
    "not over_18\n",
    "\n",
    "not over_21 or (over_21 or over_18)\n",
    "\n",
    "Let's put this into code and first assign True and False to over_18 and over_21:\n",
    "\n",
    "over_18, over_21 = True, False\n",
    "\n",
    "Let's assume the individual is over_18 and over_21:\n",
    "\n",
    "over_18 and over_21\n",
    "\n",
    "You should get the following output:\n",
    "False\n",
    "\n",
    "Let's assume the individual is over_18 or over_21:\n",
    "\n",
    "over_18 or over_21\n",
    "\n",
    "You should get the following output:\n",
    "True\n",
    "\n",
    "Let's assume the individual is not over_18:\n",
    "\n",
    "not over_18\n",
    "\n",
    "You should get the following output:\n",
    "False\n",
    "\n",
    "Let's assume the individual is not over_21 or (over_21 or over_18):\n",
    "not over_21 or (over_21 or over_18)\n",
    "\n",
    "You should get the following output:\n",
    "True\n",
    "\n",
    "In the next section, we will learn about the comparison operators that go along with Booleans.\n",
    "\n",
    "Comparison Operators\n",
    "\n",
    "Python objects may be compared using a variety of symbols that evaluate to Booleans.\n",
    "\n",
    "Comparison table with its corresponding symbols \n",
    "\n",
    "Note: The = and == symbols are often confused. The = symbol is an assignment symbol. So x = 3 assigns the integer 3 to the x variable. The == symbol makes a comparison. Thus x == 3 checks to see whether x is equivalent to 3. The result of x == 3 will be True or False."
   ]
  },
  {
   "cell_type": "code",
   "execution_count": 117,
   "metadata": {},
   "outputs": [],
   "source": [
    "over_18, over_21 = True, False"
   ]
  },
  {
   "cell_type": "code",
   "execution_count": 118,
   "metadata": {},
   "outputs": [
    {
     "data": {
      "text/plain": [
       "False"
      ]
     },
     "execution_count": 118,
     "metadata": {},
     "output_type": "execute_result"
    }
   ],
   "source": [
    "over_18 and over_21"
   ]
  },
  {
   "cell_type": "code",
   "execution_count": 119,
   "metadata": {},
   "outputs": [
    {
     "data": {
      "text/plain": [
       "True"
      ]
     },
     "execution_count": 119,
     "metadata": {},
     "output_type": "execute_result"
    }
   ],
   "source": [
    "over_18 or over_21"
   ]
  },
  {
   "cell_type": "code",
   "execution_count": 120,
   "metadata": {},
   "outputs": [
    {
     "data": {
      "text/plain": [
       "False"
      ]
     },
     "execution_count": 120,
     "metadata": {},
     "output_type": "execute_result"
    }
   ],
   "source": [
    "not over_18"
   ]
  },
  {
   "cell_type": "markdown",
   "metadata": {},
   "source": [
    "# Comparison Operators\n",
    "In this exercise, you will practice using comparison operators. Let's start with some basic mathematical examples:\n",
    "\n",
    "Now, set age as equal to 20 and include a comparison operator to check whether age is less than 13:\n",
    "\n",
    "age = 20\n",
    "\n",
    "age < 13\n",
    "\n",
    "You should get the following output:\n",
    "False\n",
    "\n",
    "Using the following code snippet, you can check whether age is greater than or equal to 20 and less than or equal to 21:\n",
    "\n",
    "age >= 20 and age <= 21\n",
    "\n",
    "You should get the following output:\n",
    "True\n",
    "\n",
    "Now check whether age is equivalent to 21:\n",
    "age != 21\n",
    "\n",
    "You should get the following output:\n",
    "True\n",
    "\n",
    "Now, check whether age is equivalent to 19:\n",
    "\n",
    "age ==  19\n",
    "\n",
    "You should get the following output:\n",
    "False\n",
    "\n",
    "The double equals sign, or the equivalent operator, ==, is very important in Python. It allows us to determine whether two objects are equal. We can now address the question of whether 6 and 6.0 are the same in Python.\n",
    "\n",
    "Is 6 equivalent to 6.0 in Python? Let's find out:\n",
    "\n",
    "6 == 6.0\n",
    "\n",
    "You should get the following output:\n",
    "True\n",
    "\n",
    "This may come as a bit of a surprise. 6 and 6.0 are different types, but they are equivalent. Why would that be?\n",
    "\n",
    "\n",
    "Since 6 and 6.0 are equivalent mathematically, it makes sense that they would be equivalent in Python, even though the types are different. Consider whether 6 should be equivalent to 42/7. The mathematical answer is yes. Python often conforms to mathematical truths, even with integer division. We can conclude that it's possible for different types to have equivalent objects.\n",
    "\n",
    "Now find out whether 6 is equivalent to the '6' string:\n",
    "\n",
    "6 == '6'\n",
    "\n",
    "You should get the following output:\n",
    "False\n",
    "\n",
    "Here, we emphasize that different types usually do not have equivalent objects. In general, it's a good idea to cast objects as the same type before testing for equivalence.\n",
    "\n",
    "Next, let's find out whether someone is in their 20's or 30's:\n",
    "\n",
    "(age >= 20 and age < 30) or (age >= 30 and age < 40)\n",
    "\n",
    "You should get the following output:\n",
    "True\n",
    "\n",
    "Parentheses are not necessary when there is only one possible interpretation. When using more than two conditions, parentheses are generally a good idea. Note that parentheses are always permitted. The following is another approach:\n",
    "\n",
    "(20 <= age < 30) or (30 <= age < 40)\n",
    "\n",
    "You should get the following output:\n",
    "True\n",
    "\n",
    "Although the parentheses in the preceding code line are not strictly required, they make the code more readable. A good rule of thumb is to use parentheses for clarity.\n",
    "\n",
    "By completing this exercise, you have practiced using different comparison operators."
   ]
  },
  {
   "cell_type": "code",
   "execution_count": 121,
   "metadata": {},
   "outputs": [
    {
     "data": {
      "text/plain": [
       "False"
      ]
     },
     "execution_count": 121,
     "metadata": {},
     "output_type": "execute_result"
    }
   ],
   "source": [
    "age = 20\n",
    "age < 13"
   ]
  },
  {
   "cell_type": "code",
   "execution_count": 122,
   "metadata": {},
   "outputs": [
    {
     "data": {
      "text/plain": [
       "True"
      ]
     },
     "execution_count": 122,
     "metadata": {},
     "output_type": "execute_result"
    }
   ],
   "source": [
    "age >= 20 and age <= 21"
   ]
  },
  {
   "cell_type": "code",
   "execution_count": 123,
   "metadata": {},
   "outputs": [
    {
     "data": {
      "text/plain": [
       "True"
      ]
     },
     "execution_count": 123,
     "metadata": {},
     "output_type": "execute_result"
    }
   ],
   "source": [
    "age != 21"
   ]
  },
  {
   "cell_type": "code",
   "execution_count": 124,
   "metadata": {},
   "outputs": [
    {
     "data": {
      "text/plain": [
       "False"
      ]
     },
     "execution_count": 124,
     "metadata": {},
     "output_type": "execute_result"
    }
   ],
   "source": [
    "age ==  19"
   ]
  },
  {
   "cell_type": "code",
   "execution_count": 125,
   "metadata": {},
   "outputs": [
    {
     "data": {
      "text/plain": [
       "True"
      ]
     },
     "execution_count": 125,
     "metadata": {},
     "output_type": "execute_result"
    }
   ],
   "source": [
    "6 == 6.0"
   ]
  },
  {
   "cell_type": "code",
   "execution_count": 126,
   "metadata": {},
   "outputs": [
    {
     "data": {
      "text/plain": [
       "False"
      ]
     },
     "execution_count": 126,
     "metadata": {},
     "output_type": "execute_result"
    }
   ],
   "source": [
    "6 == '6'"
   ]
  },
  {
   "cell_type": "code",
   "execution_count": 127,
   "metadata": {},
   "outputs": [
    {
     "data": {
      "text/plain": [
       "True"
      ]
     },
     "execution_count": 127,
     "metadata": {},
     "output_type": "execute_result"
    }
   ],
   "source": [
    "(age >= 20 and age < 30) or (age >= 30 and age < 40)"
   ]
  },
  {
   "cell_type": "code",
   "execution_count": 128,
   "metadata": {},
   "outputs": [
    {
     "data": {
      "text/plain": [
       "True"
      ]
     },
     "execution_count": 128,
     "metadata": {},
     "output_type": "execute_result"
    }
   ],
   "source": [
    "(20 <= age < 30) or (30 <= age < 40)"
   ]
  },
  {
   "cell_type": "code",
   "execution_count": null,
   "metadata": {},
   "outputs": [],
   "source": []
  }
 ],
 "metadata": {
  "kernelspec": {
   "display_name": "Python 3",
   "language": "python",
   "name": "python3"
  },
  "language_info": {
   "codemirror_mode": {
    "name": "ipython",
    "version": 3
   },
   "file_extension": ".py",
   "mimetype": "text/x-python",
   "name": "python",
   "nbconvert_exporter": "python",
   "pygments_lexer": "ipython3",
   "version": "3.7.4"
  }
 },
 "nbformat": 4,
 "nbformat_minor": 2
}
