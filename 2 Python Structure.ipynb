{
 "cells": [
  {
   "cell_type": "markdown",
   "metadata": {},
   "source": [
    "# Exercise 21: Working with Python Lists\n",
    "In this exercise, we will learn how to work with a Python list by coding and creating a list and adding items. For example, this could prove useful if, for instance, you have to use a list to store the items that are in a shopping cart:"
   ]
  },
  {
   "cell_type": "code",
   "execution_count": 2,
   "metadata": {},
   "outputs": [
    {
     "name": "stdout",
     "output_type": "stream",
     "text": [
      "['bread', 'milk', 'eggs']\n"
     ]
    }
   ],
   "source": [
    "#1-Now enter the following code snippet:\n",
    "shopping = [\"bread\",\"milk\", \"eggs\"]\n",
    "print(shopping)\n",
    "#You should get the following output: ['bread', 'milk', 'eggs']"
   ]
  },
  {
   "cell_type": "raw",
   "metadata": {},
   "source": [
    "We created a list called shopping and added items to our list (bread, milk, and eggs).\n",
    "\n",
    "Since a list is a type of iterable in Python, we can use a for loop to iterate over all of the elements inside a list."
   ]
  },
  {
   "cell_type": "code",
   "execution_count": 3,
   "metadata": {},
   "outputs": [
    {
     "name": "stdout",
     "output_type": "stream",
     "text": [
      "bread\n",
      "milk\n",
      "eggs\n"
     ]
    }
   ],
   "source": [
    "#2-Now, enter and execute the code for a for loop and observe the output:\n",
    "for item in shopping:\n",
    "    print(item)\n",
    "#You should get the following output:\n",
    "#bread\n",
    "#milk\n",
    "#eggs    "
   ]
  },
  {
   "cell_type": "code",
   "execution_count": 4,
   "metadata": {},
   "outputs": [
    {
     "name": "stdout",
     "output_type": "stream",
     "text": [
      "[365, 'days', True]\n"
     ]
    }
   ],
   "source": [
    "#3-Now use a mixed type of data within the list's content and enter the following code in a new cell:\n",
    "mixed = [365, \"days\", True]\n",
    "print(mixed)\n",
    "#You should get the following output: [365, 'days', True]"
   ]
  },
  {
   "cell_type": "raw",
   "metadata": {},
   "source": [
    "It will be executed successfully. But you might be wondering, in that case, shouldn't we be allowed to store a list of lists inside a list? Let's look at that in the next section. This is also known as a nested list, which can be used to represent a complex data structure."
   ]
  },
  {
   "cell_type": "raw",
   "metadata": {},
   "source": [
    "Matrices as Nested Lists\n",
    "Most of the data we store in the real world is in the form of a tabular data table, that is, rows and columns, instead of a one-dimensional flat list. Such tables are called matrices or two-dimensional arrays. Python (and most other programming languages) does not provide a table structure out of the box. Programming languages do not provide table structures as it is not the role of a language to do so. A table structure is simply a way to present data. "
   ]
  },
  {
   "cell_type": "markdown",
   "metadata": {},
   "source": [
    "# Exercise 22: Using a Nested List to Store Data from a Matrix\n",
    "\n",
    "In this exercise, we will look at working with a nested list, storing values in it, and accessing it using a number of methods:"
   ]
  },
  {
   "cell_type": "code",
   "execution_count": 17,
   "metadata": {},
   "outputs": [],
   "source": [
    "#1-Enter the following code in a new cell:\n",
    "m = [[1, 2, 3], [4, 5, 6]]\n",
    "#We can store the matrix as a series of lists inside a list, or what we formally call a nested list."
   ]
  },
  {
   "cell_type": "code",
   "execution_count": 18,
   "metadata": {},
   "outputs": [
    {
     "name": "stdout",
     "output_type": "stream",
     "text": [
      "5\n"
     ]
    }
   ],
   "source": [
    "#2-Now print list m:\n",
    "print(m[1][1])\n",
    "#We can now access the elements using variable [row][column] notation.\n",
    "#You should get the following output:5\n",
    "#It prints the value of row 2, column 2, which is 5 (remember, we are using a zero-based index offset)."
   ]
  },
  {
   "cell_type": "code",
   "execution_count": 19,
   "metadata": {},
   "outputs": [
    {
     "name": "stdout",
     "output_type": "stream",
     "text": [
      "1\n",
      "2\n",
      "3\n",
      "4\n",
      "5\n",
      "6\n"
     ]
    }
   ],
   "source": [
    "#4-Now, access each of the elements in the nested list matrix by retaining their reference index with two variables, i and j:\n",
    "for i in range(len(m)):\n",
    "    for j in range(len(m[i])):\n",
    "        print(m[i][j])\n",
    "#The preceding code uses a for loop to iterate twice. In the outer loop (i), we iterate every single row in matrix m, and in the inner loop (j), we iterate every column in the row. Finally, we print the element in the corresponding position.\n",
    "\n",
    "#You should get the following output:\n",
    "\n",
    "#1\n",
    "#2\n",
    "#3\n",
    "#4\n",
    "#5\n",
    "#6        "
   ]
  },
  {
   "cell_type": "code",
   "execution_count": 21,
   "metadata": {},
   "outputs": [
    {
     "name": "stdout",
     "output_type": "stream",
     "text": [
      "1\n",
      "2\n",
      "3\n",
      "4\n",
      "5\n",
      "6\n"
     ]
    }
   ],
   "source": [
    "# se two for..in loops to print all the elements within the matrix:\n",
    "for row in m:\n",
    "    for col in row:\n",
    "        print(col)\n",
    "\n",
    "#The for loop in the code used in step 4 iterates both the row and col. This type of notation does not require us to have prior knowledge of the matrix's dimensions.\n",
    "\n",
    "#You should get the following output:\n",
    "\n",
    "# 1\n",
    "# 2\n",
    "# 3\n",
    "# 4\n",
    "# 5\n",
    "# 6        "
   ]
  },
  {
   "cell_type": "code",
   "execution_count": null,
   "metadata": {},
   "outputs": [],
   "source": []
  },
  {
   "cell_type": "code",
   "execution_count": null,
   "metadata": {},
   "outputs": [],
   "source": []
  }
 ],
 "metadata": {
  "kernelspec": {
   "display_name": "Python 3",
   "language": "python",
   "name": "python3"
  },
  "language_info": {
   "codemirror_mode": {
    "name": "ipython",
    "version": 3
   },
   "file_extension": ".py",
   "mimetype": "text/x-python",
   "name": "python",
   "nbconvert_exporter": "python",
   "pygments_lexer": "ipython3",
   "version": "3.7.4"
  }
 },
 "nbformat": 4,
 "nbformat_minor": 2
}
