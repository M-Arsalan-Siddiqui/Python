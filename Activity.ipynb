{
 "cells": [
  {
   "cell_type": "markdown",
   "metadata": {},
   "source": [
    "# Assigning Values to Variables\n",
    "In this activity, you will assign a number to the x variable, increment the number and perform additional operations.\n",
    "\n",
    "Use the following steps to complete this activity. By completing this activity, you will learn how to perform multiple mathematical operations using Python. This activity can be performed in the Jupyter Notebook.\n",
    "\n",
    "The steps are as follows:\n",
    "\n",
    "First, set 14 to the x variable.\n",
    "Now, add 1 to x.\n",
    "Finally, divide x by 5 and square it.\n",
    "You should get the following output:\n",
    "\n",
    "9.0"
   ]
  },
  {
   "cell_type": "code",
   "execution_count": 32,
   "metadata": {},
   "outputs": [
    {
     "data": {
      "text/plain": [
       "9.0"
      ]
     },
     "execution_count": 32,
     "metadata": {},
     "output_type": "execute_result"
    }
   ],
   "source": [
    " x=14 \n",
    "((x+1)/5)**2"
   ]
  },
  {
   "cell_type": "markdown",
   "metadata": {},
   "source": [
    "# 2:Finding a Solution Using Pythagorean Theorem in Python\n",
    "In this step, you need to write a docstring that describes the code as follows:\n",
    "\n",
    "This document determines the Pythagorean Distance\n",
    "between three given points\n",
    "\n",
    "Now, in the following code snippet, you have set x, y, and z equal to 2, 3, and 4: !-- HTML generated using hilite.me -->"
   ]
  },
  {
   "cell_type": "code",
   "execution_count": 2,
   "metadata": {},
   "outputs": [],
   "source": [
    "# Initialize variables\n",
    "x, y, z = 2, 3, 4"
   ]
  },
  {
   "cell_type": "markdown",
   "metadata": {},
   "source": [
    "In the following steps, 4 and 5, you determine the Pythagorean distance between the three points by squaring each value using the w_squared variable and taking the square root of the sum. And in the final step, you add comments to clarify each line of code:"
   ]
  },
  {
   "cell_type": "code",
   "execution_count": 3,
   "metadata": {},
   "outputs": [],
   "source": [
    "# Pythagorean Theorem in 3 dimensions\n",
    "w_squared = x**2 + y**2 + z**2"
   ]
  },
  {
   "cell_type": "markdown",
   "metadata": {},
   "source": [
    "Now, we take the square root of the sum, which will give us the distance in the final step:"
   ]
  },
  {
   "cell_type": "code",
   "execution_count": 4,
   "metadata": {},
   "outputs": [],
   "source": [
    "# The square root gives the distance\n",
    "w = w_squared ** 0.5"
   ]
  },
  {
   "cell_type": "markdown",
   "metadata": {},
   "source": [
    "To print the distance, we simply enter the w variable to output the final distance:"
   ]
  },
  {
   "cell_type": "code",
   "execution_count": 5,
   "metadata": {},
   "outputs": [
    {
     "data": {
      "text/plain": [
       "5.385164807134504"
      ]
     },
     "execution_count": 5,
     "metadata": {},
     "output_type": "execute_result"
    }
   ],
   "source": [
    "#Show the distance\n",
    "w\n",
    "#You should get the following output:5.385164807134504"
   ]
  },
  {
   "cell_type": "markdown",
   "metadata": {},
   "source": [
    "# 2: Using the input() Function to Rate You Day\n",
    "We begin this activity by opening up a new Jupyter Notebook.\n",
    "In this step, a question is displayed, prompting a user to rate their day on a number scale:\n",
    "#Choose a question to ask\n",
    "\n",
    "print('How would you rate your day on a scale of 1 to 10?')  \n",
    "\n",
    "In this step, the user input is saved as a variable:\n",
    "\n",
    "#Set a variable equal to input()\n",
    "\n",
    "day_rating = input()\n",
    "\n",
    "#In this step, a statement is displayed that includes the provided number:\n",
    "\n",
    "#Select an appropriate output.\n",
    "\n",
    "print('You feel like a ' + day_rating + ' today. Thanks for letting me know')\n"
   ]
  },
  {
   "cell_type": "code",
   "execution_count": 6,
   "metadata": {},
   "outputs": [
    {
     "name": "stdout",
     "output_type": "stream",
     "text": [
      "How would you rate your day on a scale of 1 to 10?\n"
     ]
    }
   ],
   "source": [
    "# Choose a question to ask\n",
    "print('How would you rate your day on a scale of 1 to 10?')"
   ]
  },
  {
   "cell_type": "code",
   "execution_count": 7,
   "metadata": {},
   "outputs": [
    {
     "name": "stdout",
     "output_type": "stream",
     "text": [
      "9\n"
     ]
    }
   ],
   "source": [
    "# Set a variable equal to input()\n",
    "day_rating = input()"
   ]
  },
  {
   "cell_type": "code",
   "execution_count": 8,
   "metadata": {},
   "outputs": [
    {
     "name": "stdout",
     "output_type": "stream",
     "text": [
      "You feel like a 9 today. Thanks for letting me know\n"
     ]
    }
   ],
   "source": [
    "#Select an appropriate output.\n",
    "print('You feel like a ' + day_rating + ' today. Thanks for letting me know')\n"
   ]
  },
  {
   "cell_type": "markdown",
   "metadata": {},
   "source": [
    "# 3:Finding the Least Common Multiple (LCM)"
   ]
  },
  {
   "cell_type": "markdown",
   "metadata": {},
   "source": [
    "\n",
    "Here, you begin by setting the variables equal to 24 and 36:\n",
    "# Find the Least Common Multiple of Two Divisors\n",
    "\n",
    "first_divisor = 24\n",
    "\n",
    "second_divisor = 36\n",
    "\n",
    "In this step, you have initialized a while loop based on the counting Boolean, which is True, with an iterator, i:\n",
    "\n",
    "counting = True \n",
    "\n",
    "i = 1\n",
    "\n",
    "while counting:\n",
    "\n",
    "This step sets up a conditional to check whether the iterator divides both numbers:\n",
    "    if i % first_divisor == 0 and i % second_divisor == 0:\n",
    "\n",
    "This step breaks the while loop:\n",
    "        break\n",
    "\n",
    "This step increments the iterator at the end of the loop:\n",
    "    i += 1\n",
    "\n",
    "print('The Least Common Multiple of', first_divisor, 'and', second_divisor, 'is', i, '.')\n",
    "T\n",
    "he aforementioned code snippet prints the results.\n",
    "\n",
    "\n",
    "You should get the following output:\n",
    "\n",
    "The Least Common Multiple of 24 and 36 is 72\n"
   ]
  },
  {
   "cell_type": "code",
   "execution_count": 31,
   "metadata": {},
   "outputs": [
    {
     "name": "stdout",
     "output_type": "stream",
     "text": [
      "The Least Common Multiple of 24 and 36 is 72 .\n"
     ]
    }
   ],
   "source": [
    "first_divisor = 24\n",
    "second_divisor = 36\n",
    "counting = True \n",
    "i = 1\n",
    "while counting:\n",
    "    if i % first_divisor == 0 and i % second_divisor == 0:\n",
    "        print('The Least Common Multiple of', first_divisor, 'and', second_divisor, 'is', i, '.')\n",
    "        break\n",
    "    i += 1        "
   ]
  }
 ],
 "metadata": {
  "kernelspec": {
   "display_name": "Python 3",
   "language": "python",
   "name": "python3"
  },
  "language_info": {
   "codemirror_mode": {
    "name": "ipython",
    "version": 3
   },
   "file_extension": ".py",
   "mimetype": "text/x-python",
   "name": "python",
   "nbconvert_exporter": "python",
   "pygments_lexer": "ipython3",
   "version": "3.7.4"
  }
 },
 "nbformat": 4,
 "nbformat_minor": 2
}
